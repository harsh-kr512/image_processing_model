{
 "cells": [
  {
   "cell_type": "code",
   "execution_count": 1,
   "id": "69c96112-5133-4ed5-9409-269f878c51bb",
   "metadata": {},
   "outputs": [
    {
     "name": "stdout",
     "output_type": "stream",
     "text": [
      "WARNING:tensorflow:From C:\\Users\\khars\\anaconda3\\Lib\\site-packages\\keras\\src\\losses.py:2976: The name tf.losses.sparse_softmax_cross_entropy is deprecated. Please use tf.compat.v1.losses.sparse_softmax_cross_entropy instead.\n",
      "\n"
     ]
    }
   ],
   "source": [
    "import numpy as np\n",
    "import pandas as pd\n",
    "import mnist\n",
    "from tensorflow import keras"
   ]
  },
  {
   "cell_type": "code",
   "execution_count": 2,
   "id": "61c95d0e-d107-4759-aa5b-0a1d692285de",
   "metadata": {},
   "outputs": [
    {
     "name": "stdout",
     "output_type": "stream",
     "text": [
      "(60000, 28, 28)\n",
      "(60000,)\n"
     ]
    }
   ],
   "source": [
    "train_imgs = mnist.train_images()\n",
    "train_lbls = mnist.train_labels()\n",
    "\n",
    "print(train_imgs.shape)\n",
    "print(train_lbls.shape)"
   ]
  },
  {
   "cell_type": "code",
   "execution_count": 3,
   "id": "1d81af58-0939-4e3e-8e80-06f18c04ed16",
   "metadata": {},
   "outputs": [],
   "source": [
    "train_imgs = mnist.train_images()\n",
    "train_lbls = mnist.train_labels()\n",
    "test_imgs = mnist.test_images()\n",
    "test_lbls = mnist.test_labels()"
   ]
  },
  {
   "cell_type": "code",
   "execution_count": 4,
   "id": "65c6ad50-4477-4e78-93ef-435c364ccb22",
   "metadata": {},
   "outputs": [],
   "source": [
    "train_imgs = (train_imgs/255) - 0.5\n",
    "test_imgs = (test_imgs/255) - 0.5"
   ]
  },
  {
   "cell_type": "code",
   "execution_count": 5,
   "id": "6a29f0f5-b99e-429b-b5dc-5773150a7fb8",
   "metadata": {},
   "outputs": [
    {
     "name": "stdout",
     "output_type": "stream",
     "text": [
      "(60000, 28, 28, 1)\n",
      "(10000, 28, 28, 1)\n"
     ]
    }
   ],
   "source": [
    "train_imgs = np.expand_dims(train_imgs, axis=3)\n",
    "test_imgs = np.expand_dims(test_imgs, axis=3)\n",
    "\n",
    "print(train_imgs.shape)\n",
    "print(test_imgs.shape)"
   ]
  },
  {
   "cell_type": "code",
   "execution_count": 6,
   "id": "849434b8-3807-41ac-ae52-74a7f9c1d332",
   "metadata": {},
   "outputs": [
    {
     "name": "stdout",
     "output_type": "stream",
     "text": [
      "WARNING:tensorflow:From C:\\Users\\khars\\anaconda3\\Lib\\site-packages\\keras\\src\\backend.py:873: The name tf.get_default_graph is deprecated. Please use tf.compat.v1.get_default_graph instead.\n",
      "\n"
     ]
    }
   ],
   "source": [
    "from tensorflow.keras import Sequential\n",
    "\n",
    "model = Sequential()"
   ]
  },
  {
   "cell_type": "code",
   "execution_count": 7,
   "id": "0d595dae-f9bf-4d66-869c-61d244b69993",
   "metadata": {},
   "outputs": [
    {
     "name": "stdout",
     "output_type": "stream",
     "text": [
      "WARNING:tensorflow:From C:\\Users\\khars\\anaconda3\\Lib\\site-packages\\keras\\src\\layers\\pooling\\max_pooling2d.py:161: The name tf.nn.max_pool is deprecated. Please use tf.nn.max_pool2d instead.\n",
      "\n"
     ]
    }
   ],
   "source": [
    "from tensorflow.keras.layers import Conv2D, MaxPooling2D, Dense, Flatten\n",
    "\n",
    "num_filters = 8\n",
    "filter_size = 3\n",
    "pool_size = 2\n",
    "\n",
    "model = Sequential([\n",
    "    Conv2D(num_filters,filter_size,input_shape=(28,28,1)),\n",
    "    MaxPooling2D(pool_size=pool_size),\n",
    "    Flatten(),\n",
    "    Dense(10, activation=\"softmax\")\n",
    "])"
   ]
  },
  {
   "cell_type": "code",
   "execution_count": 8,
   "id": "8fd76362-b8bb-40a0-b58e-3333e91b1acb",
   "metadata": {},
   "outputs": [],
   "source": [
    "from tensorflow.keras.layers import Conv2D, MaxPooling2D, Dense, Flatten\n",
    "\n",
    "\n",
    "model = Sequential()\n",
    "model.add(Conv2D(filters = 8,kernel_size=(5,5),padding='same',activation ='relu', input_shape=(28,28,1)))\n",
    "model.add(MaxPooling2D(pool_size=(2,2)))\n",
    "    \n",
    "model.add(Conv2D(filters = 16,kernel_size=(3,3),padding='same',activation ='relu'))\n",
    "model.add(MaxPooling2D(pool_size=(2,2),strides=(2,2)))\n",
    "    \n",
    "model.add(Flatten())\n",
    "model.add(Dense(256, activation=\"relu\"))\n",
    "model.add(Dense(10, activation=\"softmax\"))\n"
   ]
  },
  {
   "cell_type": "code",
   "execution_count": 10,
   "id": "c6c1b32b-8708-4e5a-85fb-9c6077d08ee5",
   "metadata": {},
   "outputs": [],
   "source": [
    "model = Sequential()\n",
    "#\n",
    "model.add(Conv2D(filters = 8, kernel_size = (5,5),padding = 'Same', \n",
    "                 activation ='relu', input_shape = (28,28,1)))\n",
    "model.add(MaxPooling2D(pool_size=(2,2)))\n",
    "#model.add(D(0.25))\n",
    "#\n",
    "model.add(Conv2D(filters = 16, kernel_size = (3,3),padding = 'Same', \n",
    "                 activation ='relu'))\n",
    "model.add(MaxPooling2D(pool_size=(2,2), strides=(2,2)))\n",
    "#model.add(Dropout(0.25))\n",
    "# fully connected\n",
    "model.add(Flatten())\n",
    "model.add(Dense(256, activation = \"relu\"))\n",
    "#model.add(Dropout(0.5))\n",
    "model.add(Dense(10, activation = \"softmax\"))"
   ]
  },
  {
   "cell_type": "code",
   "execution_count": 11,
   "id": "2ef0f72b-44dc-42e2-8d32-c50a4f14f868",
   "metadata": {},
   "outputs": [
    {
     "name": "stdout",
     "output_type": "stream",
     "text": [
      "WARNING:tensorflow:From C:\\Users\\khars\\anaconda3\\Lib\\site-packages\\keras\\src\\optimizers\\__init__.py:309: The name tf.train.Optimizer is deprecated. Please use tf.compat.v1.train.Optimizer instead.\n",
      "\n"
     ]
    }
   ],
   "source": [
    "model.compile('adam', \n",
    "              loss=\"categorical_crossentropy\",\n",
    "             metrics=['accuracy'])"
   ]
  },
  {
   "cell_type": "code",
   "execution_count": 12,
   "id": "e73acaa6-c922-44ef-9220-19695fda6637",
   "metadata": {},
   "outputs": [
    {
     "name": "stdout",
     "output_type": "stream",
     "text": [
      "5\n"
     ]
    }
   ],
   "source": [
    "import mnist\n",
    "\n",
    "train_lbls = mnist.train_labels()\n",
    "print(train_lbls[0])"
   ]
  },
  {
   "cell_type": "code",
   "execution_count": null,
   "id": "3274ee45-bf4e-4957-b1b3-25d13c2d2137",
   "metadata": {},
   "outputs": [
    {
     "name": "stdout",
     "output_type": "stream",
     "text": [
      "Epoch 1/5\n",
      "WARNING:tensorflow:From C:\\Users\\khars\\anaconda3\\Lib\\site-packages\\keras\\src\\utils\\tf_utils.py:492: The name tf.ragged.RaggedTensorValue is deprecated. Please use tf.compat.v1.ragged.RaggedTensorValue instead.\n",
      "\n",
      "WARNING:tensorflow:From C:\\Users\\khars\\anaconda3\\Lib\\site-packages\\keras\\src\\engine\\base_layer_utils.py:384: The name tf.executing_eagerly_outside_functions is deprecated. Please use tf.compat.v1.executing_eagerly_outside_functions instead.\n",
      "\n",
      "1875/1875 [==============================] - 56s 27ms/step - loss: 0.1683 - accuracy: 0.9484 - val_loss: 0.0559 - val_accuracy: 0.9816\n",
      "Epoch 2/5\n",
      "1875/1875 [==============================] - 50s 27ms/step - loss: 0.0521 - accuracy: 0.9835 - val_loss: 0.0466 - val_accuracy: 0.9846\n",
      "Epoch 3/5\n",
      "1875/1875 [==============================] - 54s 29ms/step - loss: 0.0365 - accuracy: 0.9890 - val_loss: 0.0360 - val_accuracy: 0.9873\n",
      "Epoch 4/5\n",
      "1875/1875 [==============================] - 64s 34ms/step - loss: 0.0266 - accuracy: 0.9919 - val_loss: 0.0324 - val_accuracy: 0.9887\n",
      "Epoch 5/5\n",
      " 747/1875 [==========>...................] - ETA: 35s - loss: 0.0186 - accuracy: 0.9936"
     ]
    }
   ],
   "source": [
    "from tensorflow.keras.utils import to_categorical\n",
    "\n",
    "model.fit(\n",
    "    train_imgs,\n",
    "    to_categorical(train_lbls),\n",
    "    epochs=5,\n",
    "    validation_data=(test_imgs, to_categorical(test_lbls))\n",
    ")"
   ]
  },
  {
   "cell_type": "code",
   "execution_count": null,
   "id": "98e25acf-188f-4473-ad16-e3b14c83e0a0",
   "metadata": {},
   "outputs": [],
   "source": [
    "model.save_weights('cnn.h5')\n",
    "\n",
    "# Load the Model from disk\n",
    "\n",
    "model.load_weights('cnn.h5')\n",
    "\n",
    "# Making Predictions\n",
    "\n",
    "predictions = model.predict(test_imgs[:5])\n",
    "\n",
    "# Print our Model's Predictions\n",
    "\n",
    "print(np.argmax(predictions, axis=1))\n",
    "\n",
    "# Check our predictions\n",
    "\n",
    "print(test_lbls[:5])"
   ]
  },
  {
   "cell_type": "code",
   "execution_count": null,
   "id": "c474cd40-971a-4347-8723-43cbe79dd07b",
   "metadata": {},
   "outputs": [],
   "source": []
  },
  {
   "cell_type": "code",
   "execution_count": null,
   "id": "292f9ad1-f848-4f01-ab13-6418eb65b7ef",
   "metadata": {},
   "outputs": [],
   "source": []
  },
  {
   "cell_type": "code",
   "execution_count": null,
   "id": "06e24ea9-896f-454a-9363-f3a80f850022",
   "metadata": {},
   "outputs": [],
   "source": []
  },
  {
   "cell_type": "code",
   "execution_count": null,
   "id": "6fd74020-f23d-472f-9286-a60d6e2d786f",
   "metadata": {},
   "outputs": [],
   "source": []
  },
  {
   "cell_type": "code",
   "execution_count": null,
   "id": "3d9c9bfe-5bbe-42c0-a29d-91fcb2798de0",
   "metadata": {},
   "outputs": [],
   "source": []
  },
  {
   "cell_type": "code",
   "execution_count": null,
   "id": "e74d34de-2448-4701-aa96-7bc8d52df64d",
   "metadata": {},
   "outputs": [],
   "source": []
  },
  {
   "cell_type": "code",
   "execution_count": null,
   "id": "5f0c5609-6f85-474d-bdc4-08e149c43f7f",
   "metadata": {},
   "outputs": [],
   "source": []
  },
  {
   "cell_type": "code",
   "execution_count": null,
   "id": "8bd19d79-a340-493e-9b61-1c885c816014",
   "metadata": {},
   "outputs": [],
   "source": []
  }
 ],
 "metadata": {
  "kernelspec": {
   "display_name": "Python 3 (ipykernel)",
   "language": "python",
   "name": "python3"
  },
  "language_info": {
   "codemirror_mode": {
    "name": "ipython",
    "version": 3
   },
   "file_extension": ".py",
   "mimetype": "text/x-python",
   "name": "python",
   "nbconvert_exporter": "python",
   "pygments_lexer": "ipython3",
   "version": "3.11.5"
  }
 },
 "nbformat": 4,
 "nbformat_minor": 5
}
